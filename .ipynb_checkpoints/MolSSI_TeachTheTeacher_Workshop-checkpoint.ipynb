{
 "cells": [
  {
   "cell_type": "markdown",
   "metadata": {},
   "source": [
    "## MolSSI workshop\n",
    "### August 8, 2019"
   ]
  },
  {
   "cell_type": "code",
   "execution_count": 1,
   "metadata": {},
   "outputs": [
    {
     "data": {
      "text/plain": [
       "10"
      ]
     },
     "execution_count": 1,
     "metadata": {},
     "output_type": "execute_result"
    }
   ],
   "source": [
    "3+7"
   ]
  },
  {
   "cell_type": "code",
   "execution_count": 2,
   "metadata": {},
   "outputs": [],
   "source": [
    "#variable_name = value\n",
    "deltaH = -541.5   # kJ/mol\n",
    "deltaS = 10.4     # kJ/molK\n",
    "temperature = 298 # K\n",
    "\n",
    "deltaG = deltaH -temperature*deltaS"
   ]
  },
  {
   "cell_type": "code",
   "execution_count": 3,
   "metadata": {},
   "outputs": [
    {
     "name": "stdout",
     "output_type": "stream",
     "text": [
      "-3640.7000000000003\n"
     ]
    }
   ],
   "source": [
    "print(deltaG)"
   ]
  },
  {
   "cell_type": "code",
   "execution_count": 4,
   "metadata": {},
   "outputs": [
    {
     "data": {
      "text/plain": [
       "-3640700.0000000005"
      ]
     },
     "execution_count": 4,
     "metadata": {},
     "output_type": "execute_result"
    }
   ],
   "source": [
    "deltaG*1000 # Does not change the value"
   ]
  },
  {
   "cell_type": "code",
   "execution_count": 5,
   "metadata": {},
   "outputs": [
    {
     "name": "stdout",
     "output_type": "stream",
     "text": [
      "-3640.7000000000003\n"
     ]
    }
   ],
   "source": [
    "print(deltaG) # Confirming that value isn't changed"
   ]
  },
  {
   "cell_type": "code",
   "execution_count": 6,
   "metadata": {},
   "outputs": [
    {
     "name": "stdout",
     "output_type": "stream",
     "text": [
      "-3640.7000000000003\n",
      "-3640700.0000000005\n"
     ]
    }
   ],
   "source": [
    "deltaG_J = deltaG*1000\n",
    "print(deltaG)\n",
    "print(deltaG_J)"
   ]
  },
  {
   "cell_type": "code",
   "execution_count": 7,
   "metadata": {},
   "outputs": [],
   "source": [
    "deltaG = deltaG*1000 # \"over-writing the value of deltaG\""
   ]
  },
  {
   "cell_type": "code",
   "execution_count": 8,
   "metadata": {},
   "outputs": [],
   "source": [
    "deltaG = deltaG/1000 # resetting to original value"
   ]
  },
  {
   "cell_type": "code",
   "execution_count": 9,
   "metadata": {},
   "outputs": [],
   "source": [
    "deltaH, deltaS, temperature = -541.5, 10.4, 298 # Assigning multiple variables simultaneously"
   ]
  },
  {
   "cell_type": "code",
   "execution_count": 10,
   "metadata": {},
   "outputs": [
    {
     "name": "stdout",
     "output_type": "stream",
     "text": [
      "-3640.7000000000003\n"
     ]
    }
   ],
   "source": [
    "deltaG = deltaH - temperature*deltaS\n",
    "print(deltaG)"
   ]
  },
  {
   "cell_type": "code",
   "execution_count": 11,
   "metadata": {},
   "outputs": [
    {
     "data": {
      "text/plain": [
       "float"
      ]
     },
     "execution_count": 11,
     "metadata": {},
     "output_type": "execute_result"
    }
   ],
   "source": [
    "type(deltaG)"
   ]
  },
  {
   "cell_type": "code",
   "execution_count": 12,
   "metadata": {},
   "outputs": [
    {
     "name": "stdout",
     "output_type": "stream",
     "text": [
      "-3640.7000000000003 <class 'str'>\n"
     ]
    }
   ],
   "source": [
    "deltaG_string = str(deltaG)\n",
    "print(deltaG_string,type(deltaG_string))"
   ]
  },
  {
   "cell_type": "code",
   "execution_count": 13,
   "metadata": {},
   "outputs": [
    {
     "name": "stdout",
     "output_type": "stream",
     "text": [
      "-13.4\n"
     ]
    }
   ],
   "source": [
    "energy_kcal = [-13.4, -2.7, 5.4, 42.1] # defining a list\n",
    "print(energy_kcal[0])"
   ]
  },
  {
   "cell_type": "code",
   "execution_count": 14,
   "metadata": {},
   "outputs": [
    {
     "name": "stdout",
     "output_type": "stream",
     "text": [
      "-2.7\n"
     ]
    }
   ],
   "source": [
    "print(energy_kcal[1])"
   ]
  },
  {
   "cell_type": "code",
   "execution_count": 15,
   "metadata": {},
   "outputs": [
    {
     "name": "stdout",
     "output_type": "stream",
     "text": [
      "5.4\n"
     ]
    }
   ],
   "source": [
    "print(energy_kcal[-2])"
   ]
  },
  {
   "cell_type": "code",
   "execution_count": 16,
   "metadata": {},
   "outputs": [],
   "source": [
    "energy_cal = energy_kcal[1]*1000"
   ]
  },
  {
   "cell_type": "code",
   "execution_count": 17,
   "metadata": {},
   "outputs": [
    {
     "name": "stdout",
     "output_type": "stream",
     "text": [
      "-2700.0\n"
     ]
    }
   ],
   "source": [
    "print(energy_cal)"
   ]
  },
  {
   "cell_type": "markdown",
   "metadata": {},
   "source": [
    "### Taking slices"
   ]
  },
  {
   "cell_type": "code",
   "execution_count": 18,
   "metadata": {},
   "outputs": [
    {
     "name": "stdout",
     "output_type": "stream",
     "text": [
      "[-13.4, -2.7]\n"
     ]
    }
   ],
   "source": [
    "#new_list = list_name[start:end] (up to, but not including, the index 'end')\n",
    "short_list = energy_kcal[0:2]\n",
    "print(short_list)"
   ]
  },
  {
   "cell_type": "code",
   "execution_count": 19,
   "metadata": {},
   "outputs": [
    {
     "name": "stdout",
     "output_type": "stream",
     "text": [
      "4 2\n"
     ]
    }
   ],
   "source": [
    "# show the length of the list\n",
    "print(len(energy_kcal),len(short_list))"
   ]
  },
  {
   "cell_type": "code",
   "execution_count": 20,
   "metadata": {},
   "outputs": [
    {
     "name": "stdout",
     "output_type": "stream",
     "text": [
      "slice1 is [-2.7, 5.4, 42.1]\n",
      "slice2 is [-13.4, -2.7, 5.4]\n"
     ]
    }
   ],
   "source": [
    "slice1 = energy_kcal[1:]\n",
    "slice2 = energy_kcal[:3]\n",
    "print('slice1 is', slice1)\n",
    "print('slice2 is', slice2)"
   ]
  },
  {
   "cell_type": "code",
   "execution_count": 21,
   "metadata": {},
   "outputs": [
    {
     "name": "stdout",
     "output_type": "stream",
     "text": [
      "[-13.4, -2.7, 5.4, 42.1]\n"
     ]
    }
   ],
   "source": [
    "print(energy_kcal[:4])"
   ]
  },
  {
   "cell_type": "code",
   "execution_count": 22,
   "metadata": {},
   "outputs": [
    {
     "name": "stdout",
     "output_type": "stream",
     "text": [
      "[-13.4, -2.7, 5.4, 42.1]\n"
     ]
    }
   ],
   "source": [
    "energy_kcal[:2]\n",
    "print(energy_kcal) # Reminder that slicing doesn't modify the list in-place"
   ]
  },
  {
   "cell_type": "code",
   "execution_count": 23,
   "metadata": {},
   "outputs": [],
   "source": [
    "# You can multiply every element of a list directly\n",
    "energy_cal = 1000*energy_kcal\n",
    "# Or you could do this with a 'for' loop\n",
    "# for variable in list_name:\n",
    "#   do things with variable\n",
    "# (end of the loop is designated by indentation)"
   ]
  },
  {
   "cell_type": "code",
   "execution_count": 24,
   "metadata": {},
   "outputs": [
    {
     "name": "stdout",
     "output_type": "stream",
     "text": [
      "-56.0656\n",
      "-11.296800000000001\n",
      "22.593600000000002\n",
      "176.1464\n"
     ]
    }
   ],
   "source": [
    "for element in energy_kcal:\n",
    "    energy_kJ = element*4.184\n",
    "    print(energy_kJ)"
   ]
  },
  {
   "cell_type": "code",
   "execution_count": 25,
   "metadata": {},
   "outputs": [
    {
     "ename": "NameError",
     "evalue": "name 'clear' is not defined",
     "output_type": "error",
     "traceback": [
      "\u001b[1;31m---------------------------------------------------------------------------\u001b[0m",
      "\u001b[1;31mNameError\u001b[0m                                 Traceback (most recent call last)",
      "\u001b[1;32m<ipython-input-25-4c939bc367af>\u001b[0m in \u001b[0;36m<module>\u001b[1;34m\u001b[0m\n\u001b[0;32m      2\u001b[0m \u001b[1;31m# but you can't append to an undefined variable or non-list\u001b[0m\u001b[1;33m\u001b[0m\u001b[1;33m\u001b[0m\u001b[1;33m\u001b[0m\u001b[0m\n\u001b[0;32m      3\u001b[0m \u001b[1;31m# list_name.append(new_thing)\u001b[0m\u001b[1;33m\u001b[0m\u001b[1;33m\u001b[0m\u001b[1;33m\u001b[0m\u001b[0m\n\u001b[1;32m----> 4\u001b[1;33m \u001b[0mclear\u001b[0m\u001b[1;33m(\u001b[0m\u001b[0menergy_kJ\u001b[0m\u001b[1;33m)\u001b[0m\u001b[1;33m\u001b[0m\u001b[1;33m\u001b[0m\u001b[0m\n\u001b[0m\u001b[0;32m      5\u001b[0m \u001b[1;32mfor\u001b[0m \u001b[0melement\u001b[0m \u001b[1;32min\u001b[0m \u001b[0menergy_kcal\u001b[0m\u001b[1;33m:\u001b[0m\u001b[1;33m\u001b[0m\u001b[1;33m\u001b[0m\u001b[0m\n\u001b[0;32m      6\u001b[0m     \u001b[0mkJ\u001b[0m \u001b[1;33m=\u001b[0m \u001b[0melement\u001b[0m\u001b[1;33m*\u001b[0m\u001b[1;36m4.184\u001b[0m\u001b[1;33m\u001b[0m\u001b[1;33m\u001b[0m\u001b[0m\n",
      "\u001b[1;31mNameError\u001b[0m: name 'clear' is not defined"
     ]
    }
   ],
   "source": [
    "# Add an element to a list with the 'append' function;\n",
    "# but you can't append to an undefined variable or non-list\n",
    "# list_name.append(new_thing)\n",
    "clear(energy_kJ)\n",
    "for element in energy_kcal:\n",
    "    kJ = element*4.184\n",
    "    energy_kJ.append(kJ)\n",
    "    \n",
    "print(energy_kJ)"
   ]
  },
  {
   "cell_type": "code",
   "execution_count": 26,
   "metadata": {},
   "outputs": [
    {
     "name": "stdout",
     "output_type": "stream",
     "text": [
      "[-56.0656, -11.296800000000001, 22.593600000000002, 176.1464]\n"
     ]
    }
   ],
   "source": [
    "energy_kJ = []\n",
    "for element in energy_kcal:\n",
    "    kJ = element*4.184\n",
    "    energy_kJ.append(kJ)\n",
    "    \n",
    "print(energy_kJ)"
   ]
  },
  {
   "cell_type": "code",
   "execution_count": 27,
   "metadata": {},
   "outputs": [
    {
     "name": "stdout",
     "output_type": "stream",
     "text": [
      "[-56.0656, -11.296800000000001]\n"
     ]
    }
   ],
   "source": [
    "# Using a conditional statement to extract negatively valued elements of a list\n",
    "negative_energy = []\n",
    "for element in energy_kJ:\n",
    "    if element < 0:\n",
    "        negative_energy.append(element)\n",
    "        \n",
    "print(negative_energy)"
   ]
  },
  {
   "cell_type": "code",
   "execution_count": 28,
   "metadata": {},
   "outputs": [],
   "source": [
    "negative_test = [x for x in energy_kJ if x<0]"
   ]
  },
  {
   "cell_type": "code",
   "execution_count": 29,
   "metadata": {},
   "outputs": [
    {
     "ename": "SyntaxError",
     "evalue": "Missing parentheses in call to 'print'. Did you mean print(negative_test)? (<ipython-input-29-4895304d5054>, line 1)",
     "output_type": "error",
     "traceback": [
      "\u001b[1;36m  File \u001b[1;32m\"<ipython-input-29-4895304d5054>\"\u001b[1;36m, line \u001b[1;32m1\u001b[0m\n\u001b[1;33m    print negative_test\u001b[0m\n\u001b[1;37m                      ^\u001b[0m\n\u001b[1;31mSyntaxError\u001b[0m\u001b[1;31m:\u001b[0m Missing parentheses in call to 'print'. Did you mean print(negative_test)?\n"
     ]
    }
   ],
   "source": [
    "print negative_test"
   ]
  },
  {
   "cell_type": "code",
   "execution_count": 30,
   "metadata": {},
   "outputs": [
    {
     "name": "stdout",
     "output_type": "stream",
     "text": [
      "[-56.0656, -11.296800000000001]\n"
     ]
    }
   ],
   "source": [
    "print(negative_test)"
   ]
  }
 ],
 "metadata": {
  "kernelspec": {
   "display_name": "Python 3",
   "language": "python",
   "name": "python3"
  },
  "language_info": {
   "codemirror_mode": {
    "name": "ipython",
    "version": 3
   },
   "file_extension": ".py",
   "mimetype": "text/x-python",
   "name": "python",
   "nbconvert_exporter": "python",
   "pygments_lexer": "ipython3",
   "version": "3.7.3"
  }
 },
 "nbformat": 4,
 "nbformat_minor": 2
}
