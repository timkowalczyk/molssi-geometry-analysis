{
 "cells": [
  {
   "cell_type": "markdown",
   "metadata": {},
   "source": [
    "## Simple code to produce the distances between all atoms"
   ]
  },
  {
   "cell_type": "code",
   "execution_count": 32,
   "metadata": {},
   "outputs": [
    {
     "name": "stdout",
     "output_type": "stream",
     "text": [
      "O to O : 0.0\n",
      "O to H1 : 0.969\n",
      "O to H2 : 0.969\n",
      "H1 to O : 0.969\n",
      "H1 to H1 : 0.0\n",
      "H1 to H2 : 1.527\n",
      "H2 to O : 0.969\n",
      "H2 to H1 : 1.527\n",
      "H2 to H2 : 0.0\n"
     ]
    }
   ],
   "source": [
    "import os, numpy\n",
    "\n",
    "# Determine the path to the target xyz file\n",
    "filename = os.path.join('data','data','water.xyz')\n",
    "\n",
    "# Extract the atomic labels and coordinates\n",
    "raw = numpy.genfromtxt(filename,skip_header=2,dtype='unicode')\n",
    "atoms = raw[:,0]\n",
    "coordinates = raw[:,1:4].astype(numpy.float)\n",
    "\n",
    "# Compute distances between all atoms using nested for loops\n",
    "d = []\n",
    "for i in range(len(atoms)):\n",
    "    di = []\n",
    "    xi = coordinates[i,0]\n",
    "    yi = coordinates[i,1]\n",
    "    zi = coordinates[i,2]\n",
    "    for j in range(len(atoms)):\n",
    "        xj = coordinates[j,0]\n",
    "        yj = coordinates[j,1]\n",
    "        zj = coordinates[j,2]\n",
    "        di.append(numpy.sqrt((xj-xi)**2+(yj-yi)**2+(zj-zi)**2))\n",
    "    d.append(di)\n",
    "    \n",
    "# Print out the list of distances\n",
    "for i in range(len(atoms)):\n",
    "    for j in range(len(atoms)):\n",
    "        print(f'{atoms[i]} to {atoms[j]} : {round(d[i][j],3)}')"
   ]
  },
  {
   "cell_type": "markdown",
   "metadata": {},
   "source": [
    "## Modification: applying a cutoff distance of 1.5 Angstrom"
   ]
  },
  {
   "cell_type": "code",
   "execution_count": 34,
   "metadata": {},
   "outputs": [
    {
     "name": "stdout",
     "output_type": "stream",
     "text": [
      "O to H1 : 0.969\n",
      "O to H2 : 0.969\n",
      "H1 to O : 0.969\n",
      "H2 to O : 0.969\n"
     ]
    }
   ],
   "source": [
    "import os, numpy\n",
    "\n",
    "# Determine the path to the target xyz file\n",
    "filename = os.path.join('data','data','water.xyz')\n",
    "\n",
    "# Extract the atomic labels and coordinates\n",
    "raw = numpy.genfromtxt(filename,skip_header=2,dtype='unicode')\n",
    "atoms = raw[:,0]\n",
    "coordinates = raw[:,1:4].astype(numpy.float)\n",
    "\n",
    "# Compute distances between all atoms using nested for loops\n",
    "d = []\n",
    "for i in range(len(atoms)):\n",
    "    di = []\n",
    "    xi = coordinates[i,0]\n",
    "    yi = coordinates[i,1]\n",
    "    zi = coordinates[i,2]\n",
    "    for j in range(len(atoms)):\n",
    "        xj = coordinates[j,0]\n",
    "        yj = coordinates[j,1]\n",
    "        zj = coordinates[j,2]\n",
    "        di.append(numpy.sqrt((xj-xi)**2+(yj-yi)**2+(zj-zi)**2))\n",
    "    d.append(di)\n",
    "    \n",
    "# Print out the list of distances\n",
    "for i in range(len(atoms)):\n",
    "    for j in range(len(atoms)):\n",
    "        if (d[i][j] != 0.0 and d[i][j] <= 1.5):\n",
    "            print(f'{atoms[i]} to {atoms[j]} : {round(d[i][j],3)}')"
   ]
  },
  {
   "cell_type": "markdown",
   "metadata": {},
   "source": [
    "## Modification: remove duplicates (in addition to the cutoff)"
   ]
  },
  {
   "cell_type": "code",
   "execution_count": 35,
   "metadata": {},
   "outputs": [
    {
     "name": "stdout",
     "output_type": "stream",
     "text": [
      "O to H1 : 0.969\n",
      "O to H2 : 0.969\n"
     ]
    }
   ],
   "source": [
    "import os, numpy\n",
    "\n",
    "# Determine the path to the target xyz file\n",
    "filename = os.path.join('data','data','water.xyz')\n",
    "\n",
    "# Extract the atomic labels and coordinates\n",
    "raw = numpy.genfromtxt(filename,skip_header=2,dtype='unicode')\n",
    "atoms = raw[:,0]\n",
    "coordinates = raw[:,1:4].astype(numpy.float)\n",
    "\n",
    "# Compute distances between all atoms using nested for loops\n",
    "d = []\n",
    "for i in range(len(atoms)):\n",
    "    di = []\n",
    "    xi = coordinates[i,0]\n",
    "    yi = coordinates[i,1]\n",
    "    zi = coordinates[i,2]\n",
    "    for j in range(len(atoms)):\n",
    "        xj = coordinates[j,0]\n",
    "        yj = coordinates[j,1]\n",
    "        zj = coordinates[j,2]\n",
    "        di.append(numpy.sqrt((xj-xi)**2+(yj-yi)**2+(zj-zi)**2))\n",
    "    d.append(di)\n",
    "    \n",
    "# Print out the list of distances\n",
    "for i in range(len(atoms)):\n",
    "    for j in range(i,len(atoms)):\n",
    "        if (d[i][j] != 0.0 and d[i][j] <= 1.5):\n",
    "            print(f'{atoms[i]} to {atoms[j]} : {round(d[i][j],3)}')"
   ]
  },
  {
   "cell_type": "markdown",
   "metadata": {},
   "source": [
    "## Modification: write the data to an output file"
   ]
  },
  {
   "cell_type": "code",
   "execution_count": 38,
   "metadata": {},
   "outputs": [],
   "source": [
    "import os, numpy\n",
    "\n",
    "# Determine the path to the target xyz file\n",
    "filename = os.path.join('data','data','water.xyz')\n",
    "\n",
    "# Extract the atomic labels and coordinates\n",
    "raw = numpy.genfromtxt(filename,skip_header=2,dtype='unicode')\n",
    "atoms = raw[:,0]\n",
    "coordinates = raw[:,1:4].astype(numpy.float)\n",
    "\n",
    "# Compute distances between all atoms using nested for loops\n",
    "d = []\n",
    "for i in range(len(atoms)):\n",
    "    di = []\n",
    "    xi = coordinates[i,0]\n",
    "    yi = coordinates[i,1]\n",
    "    zi = coordinates[i,2]\n",
    "    for j in range(len(atoms)):\n",
    "        xj = coordinates[j,0]\n",
    "        yj = coordinates[j,1]\n",
    "        zj = coordinates[j,2]\n",
    "        di.append(numpy.sqrt((xj-xi)**2+(yj-yi)**2+(zj-zi)**2))\n",
    "    d.append(di)\n",
    "    \n",
    "# Print out the list of distances\n",
    "outfilename = os.path.join('data','data','bond_lengths.txt')\n",
    "file = open(outfilename,'w')\n",
    "for i in range(len(atoms)):\n",
    "    for j in range(i,len(atoms)):\n",
    "        if (d[i][j] != 0.0 and d[i][j] <= 1.5):\n",
    "            #print(f'{atoms[i]} to {atoms[j]} : {round(d[i][j],3)}')\n",
    "            file.write(f'{atoms[i]} to {atoms[j]} : {round(d[i][j],3)}\\n')\n",
    "file.close()"
   ]
  },
  {
   "cell_type": "code",
   "execution_count": null,
   "metadata": {},
   "outputs": [],
   "source": []
  }
 ],
 "metadata": {
  "kernelspec": {
   "display_name": "Python 3",
   "language": "python",
   "name": "python3"
  },
  "language_info": {
   "codemirror_mode": {
    "name": "ipython",
    "version": 3
   },
   "file_extension": ".py",
   "mimetype": "text/x-python",
   "name": "python",
   "nbconvert_exporter": "python",
   "pygments_lexer": "ipython3",
   "version": "3.7.3"
  }
 },
 "nbformat": 4,
 "nbformat_minor": 2
}
