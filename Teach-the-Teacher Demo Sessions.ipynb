{
 "cells": [
  {
   "cell_type": "markdown",
   "metadata": {},
   "source": [
    "# Importing and parsing data from a single file"
   ]
  },
  {
   "cell_type": "code",
   "execution_count": 1,
   "metadata": {},
   "outputs": [
    {
     "data": {
      "text/plain": [
       "'C:\\\\Users\\\\tkowalcz\\\\Desktop\\\\cms-workshop'"
      ]
     },
     "execution_count": 1,
     "metadata": {},
     "output_type": "execute_result"
    }
   ],
   "source": [
    "pwd"
   ]
  },
  {
   "cell_type": "code",
   "execution_count": 2,
   "metadata": {},
   "outputs": [],
   "source": [
    "import os"
   ]
  },
  {
   "cell_type": "code",
   "execution_count": 3,
   "metadata": {},
   "outputs": [
    {
     "name": "stdout",
     "output_type": "stream",
     "text": [
      " Volume in drive C is OS\n",
      " Volume Serial Number is 462F-9A94\n",
      "\n",
      " Directory of C:\\Users\\tkowalcz\\Desktop\\cms-workshop\\data\n",
      "\n",
      "08/06/2019  11:51 AM    <DIR>          .\n",
      "08/06/2019  11:51 AM    <DIR>          ..\n",
      "08/06/2019  11:51 AM    <DIR>          data\n",
      "               0 File(s)              0 bytes\n",
      "               3 Dir(s)  90,266,857,472 bytes free\n"
     ]
    }
   ],
   "source": [
    "ls data"
   ]
  },
  {
   "cell_type": "code",
   "execution_count": 4,
   "metadata": {},
   "outputs": [
    {
     "name": "stdout",
     "output_type": "stream",
     "text": [
      " Volume in drive C is OS\n",
      " Volume Serial Number is 462F-9A94\n",
      "\n",
      " Directory of C:\\Users\\tkowalcz\\Desktop\\cms-workshop\\data\\data\n",
      "\n",
      "08/06/2019  11:51 AM    <DIR>          .\n",
      "08/06/2019  11:51 AM    <DIR>          ..\n",
      "08/06/2019  11:51 AM               619 benzene.xyz\n",
      "08/06/2019  11:51 AM             2,471 buckminsterfullerene.xyz\n",
      "08/06/2019  11:51 AM           355,359 distance_data_headers.csv\n",
      "08/06/2019  11:51 AM    <DIR>          outfiles\n",
      "08/06/2019  11:51 AM            61,568 sapt.out\n",
      "08/06/2019  11:51 AM               155 water.xyz\n",
      "               5 File(s)        420,172 bytes\n",
      "               3 Dir(s)  90,266,791,936 bytes free\n"
     ]
    }
   ],
   "source": [
    "ls data\\data"
   ]
  },
  {
   "cell_type": "code",
   "execution_count": 5,
   "metadata": {},
   "outputs": [
    {
     "name": "stdout",
     "output_type": "stream",
     "text": [
      " Volume in drive C is OS\n",
      " Volume Serial Number is 462F-9A94\n",
      "\n",
      " Directory of C:\\Users\\tkowalcz\\Desktop\\cms-workshop\\data\\data\\outfiles\n",
      "\n",
      "08/06/2019  11:51 AM    <DIR>          .\n",
      "08/06/2019  11:51 AM    <DIR>          ..\n",
      "08/06/2019  11:51 AM            12,750 butanol.out\n",
      "08/06/2019  11:51 AM            18,728 decanol.out\n",
      "08/06/2019  11:51 AM            10,639 ethanol.out\n",
      "08/06/2019  11:51 AM            15,770 heptanol.out\n",
      "08/06/2019  11:51 AM            14,767 hexanol.out\n",
      "08/06/2019  11:51 AM             9,719 methanol.out\n",
      "08/06/2019  11:51 AM            17,727 nonanol.out\n",
      "08/06/2019  11:51 AM            16,788 octanol.out\n",
      "08/06/2019  11:51 AM            13,762 pentanol.out\n",
      "08/06/2019  11:51 AM            11,710 propanol.out\n",
      "              10 File(s)        142,360 bytes\n",
      "               2 Dir(s)  90,266,935,296 bytes free\n"
     ]
    }
   ],
   "source": [
    "ls data\\data\\outfiles"
   ]
  },
  {
   "cell_type": "code",
   "execution_count": 56,
   "metadata": {},
   "outputs": [
    {
     "name": "stdout",
     "output_type": "stream",
     "text": [
      "data\\data\\outfiles\\ethanol.out\n"
     ]
    }
   ],
   "source": [
    "# os.path.join() assembles an OS-compatible full path from underlying folder names\n",
    "ethanol_path = os.path.join('data','data','outfiles','ethanol.out')\n",
    "print(ethanol_path)"
   ]
  },
  {
   "cell_type": "code",
   "execution_count": 57,
   "metadata": {},
   "outputs": [],
   "source": [
    "outfile = open(ethanol_path,'r')"
   ]
  },
  {
   "cell_type": "code",
   "execution_count": 58,
   "metadata": {},
   "outputs": [],
   "source": [
    "data = outfile.readlines()"
   ]
  },
  {
   "cell_type": "code",
   "execution_count": 59,
   "metadata": {},
   "outputs": [
    {
     "name": "stdout",
     "output_type": "stream",
     "text": [
      "['\\n', '    -----------------------------------------------------------------------\\n', '          Psi4: An Open-Source Ab Initio Electronic Structure Package\\n', '                               Psi4 1.1 release\\n', '\\n', '                         Git: Rev {HEAD} add49b9 \\n', '\\n', '\\n', '    R. M. Parrish, L. A. Burns, D. G. A. Smith, A. C. Simmonett,\\n', '    A. E. DePrince III, E. G. Hohenstein, U. Bozkaya, A. Yu. Sokolov,\\n', '    R. Di Remigio, R. M. Richard, J. F. Gonthier, A. M. James,\\n', '    H. R. McAlexander, A. Kumar, M. Saitow, X. Wang, B. P. Pritchard,\\n', '    P. Verma, H. F. Schaefer III, K. Patkowski, R. A. King, E. F. Valeev,\\n', '    F. A. Evangelista, J. M. Turney, T. D. Crawford, and C. D. Sherrill,\\n', '    J. Chem. Theory Comput. in press (2017).\\n', '    (doi: 10.1021/acs.jctc.7b00174)\\n', '\\n', '    -----------------------------------------------------------------------\\n', '\\n', '\\n', '    Psi4 started on: Tuesday, 27 June 2017 12:10PM\\n', '\\n', '    Process ID:  10591\\n', '    PSIDATADIR: /Users/armcdona/psi4conda/share/psi4\\n', '    Memory:     500.0 MiB\\n', '    Threads:    1\\n', '    \\n', '  ==> Input File <==\\n', '\\n', '--------------------------------------------------------------------------\\n', '#! You can write anything you want; this is a test\\n', '\\n', 'molecule ethanol {\\n', 'H        0.011242      0.005860      0.004848\\n', 'C       -0.013516     -0.004055      1.099557\\n', 'H        1.026838      0.005859      1.441119\\n', 'H       -0.508712      0.905913      1.449714\\n', 'C       -0.729377     -1.238026      1.605747\\n', 'H       -1.761756     -1.258491      1.244036\\n', 'H       -0.732480     -1.258491      2.699654\\n', 'O       -0.054692     -2.392519      1.128673\\n', 'H       -0.536299     -3.165575      1.469220\\n', '}\\n', '\\n', 'set basis cc-pVDZ\\n', \"energy('scf')--------------------------------------------------------------------------\\n\", '\\n', '*** tstart() called on csm-armcdona-m1\\n', '*** at Tue Jun 27 12:10:00 2017\\n', '\\n', '   => Loading Basis Set <=\\n', '\\n', '    Name: CC-PVDZ\\n', '    Role: ORBITAL\\n', '    Keyword: BASIS\\n', '    atoms 1, 3-4, 6-7, 9 entry H          line    20 file /Users/armcdona/psi4conda/share/psi4/basis/cc-pvdz.gbs \\n', '    atoms 2, 5           entry C          line   130 file /Users/armcdona/psi4conda/share/psi4/basis/cc-pvdz.gbs \\n', '    atoms 8              entry O          line   190 file /Users/armcdona/psi4conda/share/psi4/basis/cc-pvdz.gbs \\n', '\\n', '    There are an even number of electrons - assuming singlet.\\n', '    Specify the multiplicity in the molecule input block.\\n', '\\n', '\\n', '         ---------------------------------------------------------\\n', '                                   SCF\\n', '            by Justin Turney, Rob Parrish, and Andy Simmonett\\n', '                              RHF Reference\\n', '                        1 Threads,    500 MiB Core\\n', '         ---------------------------------------------------------\\n', '\\n', '  ==> Geometry <==\\n', '\\n', '    Molecular point group: c1\\n', '    Full point group: C1\\n', '\\n', '    Geometry (in Angstrom), charge = 0, multiplicity = 1:\\n', '\\n', '       Center              X                  Y                   Z               Mass       \\n', '    ------------   -----------------  -----------------  -----------------  -----------------\\n', '           H          0.278612764252     1.265047047666    -1.274211449480     1.007825032070\\n', '           C          0.253854764252     1.255132047666    -0.179502449480    12.000000000000\\n', '           H          1.294208764252     1.265046047666     0.162059550520     1.007825032070\\n', '           H         -0.241341235748     2.165100047666     0.170654550520     1.007825032070\\n', '           C         -0.462006235748     0.021161047666     0.326687550520    12.000000000000\\n', '           H         -1.494385235748     0.000696047666    -0.035023449480     1.007825032070\\n', '           H         -0.465109235748     0.000696047666     1.420594550520     1.007825032070\\n', '           O          0.212678764252    -1.133331952334    -0.150386449480    15.994914619560\\n', '           H         -0.268928235748    -1.906387952334     0.190160550520     1.007825032070\\n', '\\n', '  Running in c1 symmetry.\\n', '\\n', '  Rotational constants: A =      1.19639  B =      0.31014  C =      0.27136 [cm^-1]\\n', '  Rotational constants: A =  35866.92932  B =   9297.74675  C =   8135.03541 [MHz]\\n', '  Nuclear repulsion =   81.804973313181932\\n', '\\n', '  Charge       = 0\\n', '  Multiplicity = 1\\n', '  Electrons    = 26\\n', '  Nalpha       = 13\\n', '  Nbeta        = 13\\n', '\\n', '  ==> Algorithm <==\\n', '\\n', '  SCF Algorithm Type is DF.\\n', '  DIIS enabled.\\n', '  MOM disabled.\\n', '  Fractional occupation disabled.\\n', '  Guess Type is SAD.\\n', '  Energy threshold   = 1.00e-06\\n', '  Density threshold  = 1.00e-06\\n', '  Integral threshold = 0.00e+00\\n', '\\n', '  ==> Primary Basis <==\\n', '\\n', '  Basis Set: CC-PVDZ\\n', '    Blend: CC-PVDZ\\n', '    Number of shells: 36\\n', '    Number of basis function: 72\\n', '    Number of Cartesian functions: 75\\n', '    Spherical Harmonics?: true\\n', '    Max angular momentum: 2\\n', '\\n', '   => Loading Basis Set <=\\n', '\\n', '    Name: (CC-PVDZ AUX)\\n', '    Role: JKFIT\\n', '    Keyword: DF_BASIS_SCF\\n', '    atoms 1, 3-4, 6-7, 9 entry H          line    50 file /Users/armcdona/psi4conda/share/psi4/basis/cc-pvdz-jkfit.gbs \\n', '    atoms 2, 5           entry C          line   120 file /Users/armcdona/psi4conda/share/psi4/basis/cc-pvdz-jkfit.gbs \\n', '    atoms 8              entry O          line   220 file /Users/armcdona/psi4conda/share/psi4/basis/cc-pvdz-jkfit.gbs \\n', '\\n', '  ==> Pre-Iterations <==\\n', '\\n', '   -------------------------------------------------------\\n', '    Irrep   Nso     Nmo     Nalpha   Nbeta   Ndocc  Nsocc\\n', '   -------------------------------------------------------\\n', '     A         72      72       0       0       0       0\\n', '   -------------------------------------------------------\\n', '    Total      72      72      13      13      13       0\\n', '   -------------------------------------------------------\\n', '\\n', '  ==> Integral Setup <==\\n', '\\n', '  ==> DFJK: Density-Fitted J/K Matrices <==\\n', '\\n', '    J tasked:                  Yes\\n', '    K tasked:                  Yes\\n', '    wK tasked:                  No\\n', '    OpenMP threads:              1\\n', '    Integrals threads:           1\\n', '    Memory (MB):               375\\n', '    Algorithm:                Core\\n', '    Integral Cache:           NONE\\n', '    Schwarz Cutoff:          1E-12\\n', '    Fitting Condition:       1E-12\\n', '\\n', '   => Auxiliary Basis Set <=\\n', '\\n', '  Basis Set: (CC-PVDZ AUX)\\n', '    Blend: CC-PVDZ-JKFIT\\n', '    Number of shells: 126\\n', '    Number of basis function: 348\\n', '    Number of Cartesian functions: 393\\n', '    Spherical Harmonics?: true\\n', '    Max angular momentum: 3\\n', '\\n', '  Minimum eigenvalue in the overlap matrix is 6.1615207161E-03.\\n', '  Using Symmetric Orthogonalization.\\n', '\\n', '  SCF Guess: Superposition of Atomic Densities via on-the-fly atomic UHF.\\n', '\\n', '  ==> Iterations <==\\n', '\\n', '                           Total Energy        Delta E     RMS |[F,P]|\\n', '\\n', '   @DF-RHF iter   0:  -155.10365249375823   -1.55104e+02   4.53015e-02 \\n', '   @DF-RHF iter   1:  -154.01069491612421    1.09296e+00   4.72706e-03 \\n', '   @DF-RHF iter   2:  -154.08072318140574   -7.00283e-02   1.85857e-03 DIIS\\n', '   @DF-RHF iter   3:  -154.08948719255255   -8.76401e-03   6.74889e-04 DIIS\\n', '   @DF-RHF iter   4:  -154.09117177055145   -1.68458e-03   1.58963e-04 DIIS\\n', '   @DF-RHF iter   5:  -154.09128893560870   -1.17165e-04   4.54749e-05 DIIS\\n', '   @DF-RHF iter   6:  -154.09130079349944   -1.18579e-05   1.31995e-05 DIIS\\n', '   @DF-RHF iter   7:  -154.09130170057145   -9.07072e-07   2.83994e-06 DIIS\\n', '   @DF-RHF iter   8:  -154.09130176573018   -6.51587e-08   7.05545e-07 DIIS\\n', '\\n', '  ==> Post-Iterations <==\\n', '\\n', '    Orbital Energies (a.u.)\\n', '    -----------------------\\n', '\\n', '    Doubly Occupied:                                                      \\n', '\\n', '       1A    -20.546800     2A    -11.275095     3A    -11.219194  \\n', '       4A     -1.348904     5A     -1.008482     6A     -0.830928  \\n', '       7A     -0.687787     8A     -0.642241     9A     -0.566722  \\n', '      10A     -0.530314    11A     -0.519527    12A     -0.481883  \\n', '      13A     -0.433845  \\n', '\\n', '    Virtual:                                                              \\n', '\\n', '      14A      0.180940    15A      0.215018    16A      0.246070  \\n', '      17A      0.251127    18A      0.267963    19A      0.292938  \\n', '      20A      0.381996    21A      0.396231    22A      0.603706  \\n', '      23A      0.615847    24A      0.664225    25A      0.752044  \\n', '      26A      0.757291    27A      0.804155    28A      0.864841  \\n', '      29A      0.872855    30A      0.889502    31A      0.896591  \\n', '      32A      0.907855    33A      0.940941    34A      1.131195  \\n', '      35A      1.155522    36A      1.172297    37A      1.258058  \\n', '      38A      1.331160    39A      1.426371    40A      1.468358  \\n', '      41A      1.517174    42A      1.567678    43A      1.599506  \\n', '      44A      1.691808    45A      1.783132    46A      1.866083  \\n', '      47A      1.890906    48A      1.892378    49A      1.915291  \\n', '      50A      1.939375    51A      1.972358    52A      1.983727  \\n', '      53A      2.003589    54A      2.100718    55A      2.199911  \\n', '      56A      2.243703    57A      2.282336    58A      2.316926  \\n', '      59A      2.469974    60A      2.516843    61A      2.524986  \\n', '      62A      2.586064    63A      2.756948    64A      2.775491  \\n', '      65A      2.808122    66A      2.899507    67A      2.915802  \\n', '      68A      3.330513    69A      3.407987    70A      3.474254  \\n', '      71A      3.601498    72A      4.107129  \\n', '\\n', '    Final Occupation by Irrep:\\n', '              A \\n', '    DOCC [    13 ]\\n', '\\n', '  Energy converged.\\n', '\\n', '  @DF-RHF Final Energy:  -154.09130176573018\\n', '\\n', '   => Energetics <=\\n', '\\n', '    Nuclear Repulsion Energy =             81.8049733131819323\\n', '    One-Electron Energy =                -371.6091065733360210\\n', '    Two-Electron Energy =                 135.7128314944239378\\n', '    DFT Exchange-Correlation Energy =       0.0000000000000000\\n', '    Empirical Dispersion Energy =           0.0000000000000000\\n', '    PCM Polarization Energy =               0.0000000000000000\\n', '    EFP Energy =                            0.0000000000000000\\n', '    Total Energy =                       -154.0913017657301793\\n', '\\n', '\\n', '\\n', 'Properties will be evaluated at   0.000000,   0.000000,   0.000000 Bohr\\n', '\\n', 'Properties computed using the SCF density matrix\\n', '\\n', '  Nuclear Dipole Moment: (a.u.)\\n', '     X:    -0.8398      Y:     2.6103      Z:     0.5939\\n', '\\n', '  Electronic Dipole Moment: (a.u.)\\n', '     X:     0.2905      Y:    -2.6019      Z:    -0.2054\\n', '\\n', '  Dipole Moment: (a.u.)\\n', '     X:    -0.5493      Y:     0.0084      Z:     0.3884     Total:     0.6728\\n', '\\n', '  Dipole Moment: (Debye)\\n', '     X:    -1.3962      Y:     0.0213      Z:     0.9873     Total:     1.7101\\n', '\\n', '\\n', '*** tstop() called on csm-armcdona-m1 at Tue Jun 27 12:10:01 2017\\n', 'Module time:\\n', '\\tuser time   =       1.10 seconds =       0.02 minutes\\n', '\\tsystem time =       0.06 seconds =       0.00 minutes\\n', '\\ttotal time  =          1 seconds =       0.02 minutes\\n', 'Total time:\\n', '\\tuser time   =       1.10 seconds =       0.02 minutes\\n', '\\tsystem time =       0.06 seconds =       0.00 minutes\\n', '\\ttotal time  =          1 seconds =       0.02 minutes\\n', '\\n', '*** Psi4 exiting successfully. Buy a developer a beer!\\n']\n"
     ]
    }
   ],
   "source": [
    "print(data)"
   ]
  },
  {
   "cell_type": "code",
   "execution_count": 60,
   "metadata": {},
   "outputs": [],
   "source": [
    "outfile.close()"
   ]
  },
  {
   "cell_type": "code",
   "execution_count": 61,
   "metadata": {},
   "outputs": [
    {
     "name": "stdout",
     "output_type": "stream",
     "text": [
      "270\n"
     ]
    }
   ],
   "source": [
    "print(len(data))"
   ]
  },
  {
   "cell_type": "code",
   "execution_count": 62,
   "metadata": {},
   "outputs": [
    {
     "name": "stdout",
     "output_type": "stream",
     "text": [
      "\n",
      "\n",
      "    -----------------------------------------------------------------------\n",
      "\n",
      "          Psi4: An Open-Source Ab Initio Electronic Structure Package\n",
      "\n",
      "                               Psi4 1.1 release\n",
      "\n",
      "\n",
      "\n",
      "                         Git: Rev {HEAD} add49b9 \n",
      "\n",
      "\n",
      "\n",
      "\n",
      "\n",
      "    R. M. Parrish, L. A. Burns, D. G. A. Smith, A. C. Simmonett,\n",
      "\n",
      "    A. E. DePrince III, E. G. Hohenstein, U. Bozkaya, A. Yu. Sokolov,\n",
      "\n",
      "    R. Di Remigio, R. M. Richard, J. F. Gonthier, A. M. James,\n",
      "\n",
      "    H. R. McAlexander, A. Kumar, M. Saitow, X. Wang, B. P. Pritchard,\n",
      "\n",
      "    P. Verma, H. F. Schaefer III, K. Patkowski, R. A. King, E. F. Valeev,\n",
      "\n",
      "    F. A. Evangelista, J. M. Turney, T. D. Crawford, and C. D. Sherrill,\n",
      "\n",
      "    J. Chem. Theory Comput. in press (2017).\n",
      "\n",
      "    (doi: 10.1021/acs.jctc.7b00174)\n",
      "\n",
      "\n",
      "\n",
      "    -----------------------------------------------------------------------\n",
      "\n",
      "\n",
      "\n",
      "\n",
      "\n",
      "    Psi4 started on: Tuesday, 27 June 2017 12:10PM\n",
      "\n",
      "\n",
      "\n",
      "    Process ID:  10591\n",
      "\n",
      "    PSIDATADIR: /Users/armcdona/psi4conda/share/psi4\n",
      "\n",
      "    Memory:     500.0 MiB\n",
      "\n",
      "    Threads:    1\n",
      "\n",
      "    \n",
      "\n",
      "  ==> Input File <==\n",
      "\n",
      "\n",
      "\n",
      "--------------------------------------------------------------------------\n",
      "\n",
      "#! You can write anything you want; this is a test\n",
      "\n",
      "\n",
      "\n",
      "molecule ethanol {\n",
      "\n",
      "H        0.011242      0.005860      0.004848\n",
      "\n",
      "C       -0.013516     -0.004055      1.099557\n",
      "\n",
      "H        1.026838      0.005859      1.441119\n",
      "\n",
      "H       -0.508712      0.905913      1.449714\n",
      "\n",
      "C       -0.729377     -1.238026      1.605747\n",
      "\n",
      "H       -1.761756     -1.258491      1.244036\n",
      "\n",
      "H       -0.732480     -1.258491      2.699654\n",
      "\n",
      "O       -0.054692     -2.392519      1.128673\n",
      "\n",
      "H       -0.536299     -3.165575      1.469220\n",
      "\n",
      "}\n",
      "\n",
      "\n",
      "\n",
      "set basis cc-pVDZ\n",
      "\n",
      "energy('scf')--------------------------------------------------------------------------\n",
      "\n",
      "\n",
      "\n",
      "*** tstart() called on csm-armcdona-m1\n",
      "\n",
      "*** at Tue Jun 27 12:10:00 2017\n",
      "\n",
      "\n",
      "\n",
      "   => Loading Basis Set <=\n",
      "\n",
      "\n",
      "\n",
      "    Name: CC-PVDZ\n",
      "\n",
      "    Role: ORBITAL\n",
      "\n",
      "    Keyword: BASIS\n",
      "\n",
      "    atoms 1, 3-4, 6-7, 9 entry H          line    20 file /Users/armcdona/psi4conda/share/psi4/basis/cc-pvdz.gbs \n",
      "\n",
      "    atoms 2, 5           entry C          line   130 file /Users/armcdona/psi4conda/share/psi4/basis/cc-pvdz.gbs \n",
      "\n",
      "    atoms 8              entry O          line   190 file /Users/armcdona/psi4conda/share/psi4/basis/cc-pvdz.gbs \n",
      "\n",
      "\n",
      "\n",
      "    There are an even number of electrons - assuming singlet.\n",
      "\n",
      "    Specify the multiplicity in the molecule input block.\n",
      "\n",
      "\n",
      "\n",
      "\n",
      "\n",
      "         ---------------------------------------------------------\n",
      "\n",
      "                                   SCF\n",
      "\n",
      "            by Justin Turney, Rob Parrish, and Andy Simmonett\n",
      "\n",
      "                              RHF Reference\n",
      "\n",
      "                        1 Threads,    500 MiB Core\n",
      "\n",
      "         ---------------------------------------------------------\n",
      "\n",
      "\n",
      "\n",
      "  ==> Geometry <==\n",
      "\n",
      "\n",
      "\n",
      "    Molecular point group: c1\n",
      "\n",
      "    Full point group: C1\n",
      "\n",
      "\n",
      "\n",
      "    Geometry (in Angstrom), charge = 0, multiplicity = 1:\n",
      "\n",
      "\n",
      "\n",
      "       Center              X                  Y                   Z               Mass       \n",
      "\n",
      "    ------------   -----------------  -----------------  -----------------  -----------------\n",
      "\n",
      "           H          0.278612764252     1.265047047666    -1.274211449480     1.007825032070\n",
      "\n",
      "           C          0.253854764252     1.255132047666    -0.179502449480    12.000000000000\n",
      "\n",
      "           H          1.294208764252     1.265046047666     0.162059550520     1.007825032070\n",
      "\n",
      "           H         -0.241341235748     2.165100047666     0.170654550520     1.007825032070\n",
      "\n",
      "           C         -0.462006235748     0.021161047666     0.326687550520    12.000000000000\n",
      "\n",
      "           H         -1.494385235748     0.000696047666    -0.035023449480     1.007825032070\n",
      "\n",
      "           H         -0.465109235748     0.000696047666     1.420594550520     1.007825032070\n",
      "\n",
      "           O          0.212678764252    -1.133331952334    -0.150386449480    15.994914619560\n",
      "\n",
      "           H         -0.268928235748    -1.906387952334     0.190160550520     1.007825032070\n",
      "\n",
      "\n",
      "\n",
      "  Running in c1 symmetry.\n",
      "\n",
      "\n",
      "\n",
      "  Rotational constants: A =      1.19639  B =      0.31014  C =      0.27136 [cm^-1]\n",
      "\n",
      "  Rotational constants: A =  35866.92932  B =   9297.74675  C =   8135.03541 [MHz]\n",
      "\n",
      "  Nuclear repulsion =   81.804973313181932\n",
      "\n",
      "\n",
      "\n",
      "  Charge       = 0\n",
      "\n",
      "  Multiplicity = 1\n",
      "\n",
      "  Electrons    = 26\n",
      "\n",
      "  Nalpha       = 13\n",
      "\n",
      "  Nbeta        = 13\n",
      "\n",
      "\n",
      "\n",
      "  ==> Algorithm <==\n",
      "\n",
      "\n",
      "\n",
      "  SCF Algorithm Type is DF.\n",
      "\n",
      "  DIIS enabled.\n",
      "\n",
      "  MOM disabled.\n",
      "\n",
      "  Fractional occupation disabled.\n",
      "\n",
      "  Guess Type is SAD.\n",
      "\n",
      "  Energy threshold   = 1.00e-06\n",
      "\n",
      "  Density threshold  = 1.00e-06\n",
      "\n",
      "  Integral threshold = 0.00e+00\n",
      "\n",
      "\n",
      "\n",
      "  ==> Primary Basis <==\n",
      "\n",
      "\n",
      "\n",
      "  Basis Set: CC-PVDZ\n",
      "\n",
      "    Blend: CC-PVDZ\n",
      "\n",
      "    Number of shells: 36\n",
      "\n",
      "    Number of basis function: 72\n",
      "\n",
      "    Number of Cartesian functions: 75\n",
      "\n",
      "    Spherical Harmonics?: true\n",
      "\n",
      "    Max angular momentum: 2\n",
      "\n",
      "\n",
      "\n",
      "   => Loading Basis Set <=\n",
      "\n",
      "\n",
      "\n",
      "    Name: (CC-PVDZ AUX)\n",
      "\n",
      "    Role: JKFIT\n",
      "\n",
      "    Keyword: DF_BASIS_SCF\n",
      "\n",
      "    atoms 1, 3-4, 6-7, 9 entry H          line    50 file /Users/armcdona/psi4conda/share/psi4/basis/cc-pvdz-jkfit.gbs \n",
      "\n",
      "    atoms 2, 5           entry C          line   120 file /Users/armcdona/psi4conda/share/psi4/basis/cc-pvdz-jkfit.gbs \n",
      "\n",
      "    atoms 8              entry O          line   220 file /Users/armcdona/psi4conda/share/psi4/basis/cc-pvdz-jkfit.gbs \n",
      "\n",
      "\n",
      "\n",
      "  ==> Pre-Iterations <==\n",
      "\n",
      "\n",
      "\n",
      "   -------------------------------------------------------\n",
      "\n",
      "    Irrep   Nso     Nmo     Nalpha   Nbeta   Ndocc  Nsocc\n",
      "\n",
      "   -------------------------------------------------------\n",
      "\n",
      "     A         72      72       0       0       0       0\n",
      "\n",
      "   -------------------------------------------------------\n",
      "\n",
      "    Total      72      72      13      13      13       0\n",
      "\n",
      "   -------------------------------------------------------\n",
      "\n",
      "\n",
      "\n",
      "  ==> Integral Setup <==\n",
      "\n",
      "\n",
      "\n",
      "  ==> DFJK: Density-Fitted J/K Matrices <==\n",
      "\n",
      "\n",
      "\n",
      "    J tasked:                  Yes\n",
      "\n",
      "    K tasked:                  Yes\n",
      "\n",
      "    wK tasked:                  No\n",
      "\n",
      "    OpenMP threads:              1\n",
      "\n",
      "    Integrals threads:           1\n",
      "\n",
      "    Memory (MB):               375\n",
      "\n",
      "    Algorithm:                Core\n",
      "\n",
      "    Integral Cache:           NONE\n",
      "\n",
      "    Schwarz Cutoff:          1E-12\n",
      "\n",
      "    Fitting Condition:       1E-12\n",
      "\n",
      "\n",
      "\n",
      "   => Auxiliary Basis Set <=\n",
      "\n",
      "\n",
      "\n",
      "  Basis Set: (CC-PVDZ AUX)\n",
      "\n",
      "    Blend: CC-PVDZ-JKFIT\n",
      "\n",
      "    Number of shells: 126\n",
      "\n",
      "    Number of basis function: 348\n",
      "\n",
      "    Number of Cartesian functions: 393\n",
      "\n",
      "    Spherical Harmonics?: true\n",
      "\n",
      "    Max angular momentum: 3\n",
      "\n",
      "\n",
      "\n",
      "  Minimum eigenvalue in the overlap matrix is 6.1615207161E-03.\n",
      "\n",
      "  Using Symmetric Orthogonalization.\n",
      "\n",
      "\n",
      "\n",
      "  SCF Guess: Superposition of Atomic Densities via on-the-fly atomic UHF.\n",
      "\n",
      "\n",
      "\n",
      "  ==> Iterations <==\n",
      "\n",
      "\n",
      "\n",
      "                           Total Energy        Delta E     RMS |[F,P]|\n",
      "\n",
      "\n",
      "\n",
      "   @DF-RHF iter   0:  -155.10365249375823   -1.55104e+02   4.53015e-02 \n",
      "\n",
      "   @DF-RHF iter   1:  -154.01069491612421    1.09296e+00   4.72706e-03 \n",
      "\n",
      "   @DF-RHF iter   2:  -154.08072318140574   -7.00283e-02   1.85857e-03 DIIS\n",
      "\n",
      "   @DF-RHF iter   3:  -154.08948719255255   -8.76401e-03   6.74889e-04 DIIS\n",
      "\n",
      "   @DF-RHF iter   4:  -154.09117177055145   -1.68458e-03   1.58963e-04 DIIS\n",
      "\n",
      "   @DF-RHF iter   5:  -154.09128893560870   -1.17165e-04   4.54749e-05 DIIS\n",
      "\n",
      "   @DF-RHF iter   6:  -154.09130079349944   -1.18579e-05   1.31995e-05 DIIS\n",
      "\n",
      "   @DF-RHF iter   7:  -154.09130170057145   -9.07072e-07   2.83994e-06 DIIS\n",
      "\n",
      "   @DF-RHF iter   8:  -154.09130176573018   -6.51587e-08   7.05545e-07 DIIS\n",
      "\n",
      "\n",
      "\n",
      "  ==> Post-Iterations <==\n",
      "\n",
      "\n",
      "\n",
      "    Orbital Energies (a.u.)\n",
      "\n",
      "    -----------------------\n",
      "\n",
      "\n",
      "\n",
      "    Doubly Occupied:                                                      \n",
      "\n",
      "\n",
      "\n",
      "       1A    -20.546800     2A    -11.275095     3A    -11.219194  \n",
      "\n",
      "       4A     -1.348904     5A     -1.008482     6A     -0.830928  \n",
      "\n",
      "       7A     -0.687787     8A     -0.642241     9A     -0.566722  \n",
      "\n",
      "      10A     -0.530314    11A     -0.519527    12A     -0.481883  \n",
      "\n",
      "      13A     -0.433845  \n",
      "\n",
      "\n",
      "\n",
      "    Virtual:                                                              \n",
      "\n",
      "\n",
      "\n",
      "      14A      0.180940    15A      0.215018    16A      0.246070  \n",
      "\n",
      "      17A      0.251127    18A      0.267963    19A      0.292938  \n",
      "\n",
      "      20A      0.381996    21A      0.396231    22A      0.603706  \n",
      "\n",
      "      23A      0.615847    24A      0.664225    25A      0.752044  \n",
      "\n",
      "      26A      0.757291    27A      0.804155    28A      0.864841  \n",
      "\n",
      "      29A      0.872855    30A      0.889502    31A      0.896591  \n",
      "\n",
      "      32A      0.907855    33A      0.940941    34A      1.131195  \n",
      "\n",
      "      35A      1.155522    36A      1.172297    37A      1.258058  \n",
      "\n",
      "      38A      1.331160    39A      1.426371    40A      1.468358  \n",
      "\n",
      "      41A      1.517174    42A      1.567678    43A      1.599506  \n",
      "\n",
      "      44A      1.691808    45A      1.783132    46A      1.866083  \n",
      "\n",
      "      47A      1.890906    48A      1.892378    49A      1.915291  \n",
      "\n",
      "      50A      1.939375    51A      1.972358    52A      1.983727  \n",
      "\n",
      "      53A      2.003589    54A      2.100718    55A      2.199911  \n",
      "\n",
      "      56A      2.243703    57A      2.282336    58A      2.316926  \n",
      "\n",
      "      59A      2.469974    60A      2.516843    61A      2.524986  \n",
      "\n",
      "      62A      2.586064    63A      2.756948    64A      2.775491  \n",
      "\n",
      "      65A      2.808122    66A      2.899507    67A      2.915802  \n",
      "\n",
      "      68A      3.330513    69A      3.407987    70A      3.474254  \n",
      "\n",
      "      71A      3.601498    72A      4.107129  \n",
      "\n",
      "\n",
      "\n",
      "    Final Occupation by Irrep:\n",
      "\n",
      "              A \n",
      "\n",
      "    DOCC [    13 ]\n",
      "\n",
      "\n",
      "\n",
      "  Energy converged.\n",
      "\n",
      "\n",
      "\n",
      "  @DF-RHF Final Energy:  -154.09130176573018\n",
      "\n",
      "\n",
      "\n",
      "   => Energetics <=\n",
      "\n",
      "\n",
      "\n",
      "    Nuclear Repulsion Energy =             81.8049733131819323\n",
      "\n",
      "    One-Electron Energy =                -371.6091065733360210\n",
      "\n",
      "    Two-Electron Energy =                 135.7128314944239378\n",
      "\n",
      "    DFT Exchange-Correlation Energy =       0.0000000000000000\n",
      "\n",
      "    Empirical Dispersion Energy =           0.0000000000000000\n",
      "\n",
      "    PCM Polarization Energy =               0.0000000000000000\n",
      "\n",
      "    EFP Energy =                            0.0000000000000000\n",
      "\n",
      "    Total Energy =                       -154.0913017657301793\n",
      "\n",
      "\n",
      "\n",
      "\n",
      "\n",
      "\n",
      "\n",
      "Properties will be evaluated at   0.000000,   0.000000,   0.000000 Bohr\n",
      "\n",
      "\n",
      "\n",
      "Properties computed using the SCF density matrix\n",
      "\n",
      "\n",
      "\n",
      "  Nuclear Dipole Moment: (a.u.)\n",
      "\n",
      "     X:    -0.8398      Y:     2.6103      Z:     0.5939\n",
      "\n",
      "\n",
      "\n",
      "  Electronic Dipole Moment: (a.u.)\n",
      "\n",
      "     X:     0.2905      Y:    -2.6019      Z:    -0.2054\n",
      "\n",
      "\n",
      "\n",
      "  Dipole Moment: (a.u.)\n",
      "\n",
      "     X:    -0.5493      Y:     0.0084      Z:     0.3884     Total:     0.6728\n",
      "\n",
      "\n",
      "\n",
      "  Dipole Moment: (Debye)\n",
      "\n",
      "     X:    -1.3962      Y:     0.0213      Z:     0.9873     Total:     1.7101\n",
      "\n",
      "\n",
      "\n",
      "\n",
      "\n",
      "*** tstop() called on csm-armcdona-m1 at Tue Jun 27 12:10:01 2017\n",
      "\n",
      "Module time:\n",
      "\n",
      "\tuser time   =       1.10 seconds =       0.02 minutes\n",
      "\n",
      "\tsystem time =       0.06 seconds =       0.00 minutes\n",
      "\n",
      "\ttotal time  =          1 seconds =       0.02 minutes\n",
      "\n",
      "Total time:\n",
      "\n",
      "\tuser time   =       1.10 seconds =       0.02 minutes\n",
      "\n",
      "\tsystem time =       0.06 seconds =       0.00 minutes\n",
      "\n",
      "\ttotal time  =          1 seconds =       0.02 minutes\n",
      "\n",
      "\n",
      "\n",
      "*** Psi4 exiting successfully. Buy a developer a beer!\n",
      "\n"
     ]
    }
   ],
   "source": [
    "for line in data:\n",
    "    print(line)"
   ]
  },
  {
   "cell_type": "code",
   "execution_count": 63,
   "metadata": {},
   "outputs": [
    {
     "name": "stdout",
     "output_type": "stream",
     "text": [
      "                       -154.0913017657301793\n",
      "\n"
     ]
    }
   ],
   "source": [
    "for line in data:\n",
    "    if \"Total Energy =\" in line:\n",
    "        energy_line = line\n",
    "        print(energy_line.split('=')[1])"
   ]
  },
  {
   "cell_type": "code",
   "execution_count": 64,
   "metadata": {},
   "outputs": [],
   "source": [
    "words = energy_line.split()"
   ]
  },
  {
   "cell_type": "code",
   "execution_count": 65,
   "metadata": {},
   "outputs": [
    {
     "name": "stdout",
     "output_type": "stream",
     "text": [
      "['Total', 'Energy', '=', '-154.0913017657301793']\n"
     ]
    }
   ],
   "source": [
    "print(words)"
   ]
  },
  {
   "cell_type": "code",
   "execution_count": 66,
   "metadata": {},
   "outputs": [
    {
     "name": "stdout",
     "output_type": "stream",
     "text": [
      "-154.0913017657301793\n"
     ]
    }
   ],
   "source": [
    "print(words[3])"
   ]
  },
  {
   "cell_type": "code",
   "execution_count": 67,
   "metadata": {},
   "outputs": [
    {
     "name": "stdout",
     "output_type": "stream",
     "text": [
      "-154.09130176573018\n"
     ]
    }
   ],
   "source": [
    "energy = float(words[3])\n",
    "print(energy)"
   ]
  },
  {
   "cell_type": "code",
   "execution_count": 68,
   "metadata": {},
   "outputs": [
    {
     "data": {
      "text/plain": [
       "-104.09130176573018"
      ]
     },
     "execution_count": 68,
     "metadata": {},
     "output_type": "execute_result"
    }
   ],
   "source": [
    "energy + 50"
   ]
  },
  {
   "cell_type": "code",
   "execution_count": 69,
   "metadata": {},
   "outputs": [
    {
     "name": "stdout",
     "output_type": "stream",
     "text": [
      "77 :         Center              X                  Y                   Z               Mass       \n",
      "\n"
     ]
    }
   ],
   "source": [
    "for linenumber, line in enumerate(data):\n",
    "    if 'Center' in line:\n",
    "        print(linenumber,': ',line)"
   ]
  },
  {
   "cell_type": "code",
   "execution_count": 70,
   "metadata": {},
   "outputs": [
    {
     "name": "stdout",
     "output_type": "stream",
     "text": [
      "<enumerate object at 0x0000028C490D0048>\n"
     ]
    }
   ],
   "source": [
    "print(enumerate(data))"
   ]
  },
  {
   "cell_type": "code",
   "execution_count": 71,
   "metadata": {},
   "outputs": [
    {
     "name": "stdout",
     "output_type": "stream",
     "text": [
      "       Center              X                  Y                   Z               Mass       \n",
      "\n"
     ]
    }
   ],
   "source": [
    "print(data[77])"
   ]
  },
  {
   "cell_type": "code",
   "execution_count": 72,
   "metadata": {},
   "outputs": [
    {
     "name": "stdout",
     "output_type": "stream",
     "text": [
      "    ------------   -----------------  -----------------  -----------------  -----------------\n",
      "\n"
     ]
    }
   ],
   "source": [
    "print(data[78])"
   ]
  },
  {
   "cell_type": "code",
   "execution_count": 73,
   "metadata": {},
   "outputs": [
    {
     "name": "stdout",
     "output_type": "stream",
     "text": [
      "           H          0.278612764252     1.265047047666    -1.274211449480     1.007825032070\n",
      "\n"
     ]
    }
   ],
   "source": [
    "print(data[79])"
   ]
  },
  {
   "cell_type": "code",
   "execution_count": 74,
   "metadata": {},
   "outputs": [],
   "source": [
    "atoms = []\n",
    "for i in range(79,88):\n",
    "    atoms.append(data[i].split()[0])"
   ]
  },
  {
   "cell_type": "code",
   "execution_count": 75,
   "metadata": {},
   "outputs": [
    {
     "name": "stdout",
     "output_type": "stream",
     "text": [
      "['H', 'C', 'H', 'H', 'C', 'H', 'H', 'O', 'H']\n"
     ]
    }
   ],
   "source": [
    "print(atoms)"
   ]
  },
  {
   "cell_type": "code",
   "execution_count": 76,
   "metadata": {},
   "outputs": [],
   "source": [
    "coords = []\n",
    "for i in range(79,88):\n",
    "    co#ords.append(data[i].split()[1:4])"
   ]
  },
  {
   "cell_type": "code",
   "execution_count": 77,
   "metadata": {},
   "outputs": [
    {
     "name": "stdout",
     "output_type": "stream",
     "text": [
      "[['0.278612764252', '1.265047047666', '-1.274211449480'], ['0.253854764252', '1.255132047666', '-0.179502449480'], ['1.294208764252', '1.265046047666', '0.162059550520'], ['-0.241341235748', '2.165100047666', '0.170654550520'], ['-0.462006235748', '0.021161047666', '0.326687550520'], ['-1.494385235748', '0.000696047666', '-0.035023449480'], ['-0.465109235748', '0.000696047666', '1.420594550520'], ['0.212678764252', '-1.133331952334', '-0.150386449480'], ['-0.268928235748', '-1.906387952334', '0.190160550520']]\n"
     ]
    }
   ],
   "source": [
    "print(coords)"
   ]
  },
  {
   "cell_type": "markdown",
   "metadata": {},
   "source": [
    "# Handling multiple files"
   ]
  },
  {
   "cell_type": "code",
   "execution_count": 78,
   "metadata": {},
   "outputs": [
    {
     "ename": "NameError",
     "evalue": "name 'pwd' is not defined",
     "output_type": "error",
     "traceback": [
      "\u001b[1;31m---------------------------------------------------------------------------\u001b[0m",
      "\u001b[1;31mNameError\u001b[0m                                 Traceback (most recent call last)",
      "\u001b[1;32m<ipython-input-78-f192ec59ea00>\u001b[0m in \u001b[0;36m<module>\u001b[1;34m\u001b[0m\n\u001b[0;32m      1\u001b[0m \u001b[1;31m# import library_name\u001b[0m\u001b[1;33m\u001b[0m\u001b[1;33m\u001b[0m\u001b[1;33m\u001b[0m\u001b[0m\n\u001b[0;32m      2\u001b[0m \u001b[1;31m# output = library_name.function_name(input) # how to call a function from a library\u001b[0m\u001b[1;33m\u001b[0m\u001b[1;33m\u001b[0m\u001b[1;33m\u001b[0m\u001b[0m\n\u001b[1;32m----> 3\u001b[1;33m \u001b[0mpwd\u001b[0m\u001b[1;33m\u001b[0m\u001b[1;33m\u001b[0m\u001b[0m\n\u001b[0m",
      "\u001b[1;31mNameError\u001b[0m: name 'pwd' is not defined"
     ]
    }
   ],
   "source": [
    "# import library_name\n",
    "# output = library_name.function_name(input) # how to call a function from a library\n",
    "pwd"
   ]
  },
  {
   "cell_type": "code",
   "execution_count": 79,
   "metadata": {},
   "outputs": [
    {
     "name": "stdout",
     "output_type": "stream",
     "text": [
      " Volume in drive C is OS\n",
      " Volume Serial Number is 462F-9A94\n",
      "\n",
      " Directory of C:\\Users\\tkowalcz\\Desktop\\cms-workshop\n",
      "\n",
      "08/08/2019  02:18 PM    <DIR>          .\n",
      "08/08/2019  02:18 PM    <DIR>          ..\n",
      "08/08/2019  01:31 PM    <DIR>          .ipynb_checkpoints\n",
      "08/06/2019  11:51 AM    <DIR>          data\n",
      "08/06/2019  11:50 AM           191,618 data.zip\n",
      "08/08/2019  01:10 PM            16,748 Draft of Lesson 4 - Tables.ipynb\n",
      "08/08/2019  10:57 AM            11,939 MolSSI_TeachTheTeacher_Workshop.ipynb\n",
      "08/08/2019  02:18 PM            41,221 Teach-the-Teacher Demo Sessions.ipynb\n",
      "               4 File(s)        261,526 bytes\n",
      "               4 Dir(s)  90,241,085,440 bytes free\n"
     ]
    }
   ],
   "source": [
    "ls"
   ]
  },
  {
   "cell_type": "code",
   "execution_count": 80,
   "metadata": {},
   "outputs": [
    {
     "name": "stdout",
     "output_type": "stream",
     "text": [
      " Volume in drive C is OS\n",
      " Volume Serial Number is 462F-9A94\n",
      "\n",
      " Directory of C:\\Users\\tkowalcz\\Desktop\\cms-workshop\\data\\data\n",
      "\n",
      "08/06/2019  11:51 AM    <DIR>          .\n",
      "08/06/2019  11:51 AM    <DIR>          ..\n",
      "08/06/2019  11:51 AM               619 benzene.xyz\n",
      "08/06/2019  11:51 AM             2,471 buckminsterfullerene.xyz\n",
      "08/06/2019  11:51 AM           355,359 distance_data_headers.csv\n",
      "08/06/2019  11:51 AM    <DIR>          outfiles\n",
      "08/06/2019  11:51 AM            61,568 sapt.out\n",
      "08/06/2019  11:51 AM               155 water.xyz\n",
      "               5 File(s)        420,172 bytes\n",
      "               3 Dir(s)  90,241,073,152 bytes free\n"
     ]
    }
   ],
   "source": [
    "ls data\\data"
   ]
  },
  {
   "cell_type": "code",
   "execution_count": 81,
   "metadata": {},
   "outputs": [],
   "source": [
    "import os"
   ]
  },
  {
   "cell_type": "code",
   "execution_count": 82,
   "metadata": {},
   "outputs": [
    {
     "name": "stdout",
     "output_type": "stream",
     "text": [
      "data\\data\\outfiles\n"
     ]
    }
   ],
   "source": [
    "outfile_directory = os.path.join('data','data','outfiles')\n",
    "print(outfile_directory)"
   ]
  },
  {
   "cell_type": "code",
   "execution_count": 83,
   "metadata": {},
   "outputs": [
    {
     "name": "stdout",
     "output_type": "stream",
     "text": [
      "data\\data\\outfiles\\*.out\n"
     ]
    }
   ],
   "source": [
    "file_location = os.path.join(outfile_directory,\"*.out\")\n",
    "print(file_location)"
   ]
  },
  {
   "cell_type": "code",
   "execution_count": 85,
   "metadata": {},
   "outputs": [
    {
     "name": "stdout",
     "output_type": "stream",
     "text": [
      "['data\\\\data\\\\outfiles\\\\butanol.out', 'data\\\\data\\\\outfiles\\\\decanol.out', 'data\\\\data\\\\outfiles\\\\ethanol.out', 'data\\\\data\\\\outfiles\\\\heptanol.out', 'data\\\\data\\\\outfiles\\\\hexanol.out', 'data\\\\data\\\\outfiles\\\\methanol.out', 'data\\\\data\\\\outfiles\\\\nonanol.out', 'data\\\\data\\\\outfiles\\\\octanol.out', 'data\\\\data\\\\outfiles\\\\pentanol.out', 'data\\\\data\\\\outfiles\\\\propanol.out']\n"
     ]
    }
   ],
   "source": [
    "from glob import glob\n",
    "filenames = glob(file_location)\n",
    "print(filenames)"
   ]
  },
  {
   "cell_type": "code",
   "execution_count": 90,
   "metadata": {},
   "outputs": [
    {
     "name": "stdout",
     "output_type": "stream",
     "text": [
      "[-232.1655798347283, -466.3836241400086, -154.09130176573018, -349.27397687072676, -310.2385332251633, -115.04800861868374, -427.3465180082815, -388.3110864554743, -271.20138119895074, -193.12836249728798]\n"
     ]
    }
   ],
   "source": [
    "energies = []\n",
    "for f in filenames:\n",
    "    outfile = open(f,'r')\n",
    "    data = outfile.readlines()\n",
    "    outfile.close()\n",
    "    for line in data:\n",
    "        if \"Final Energy\" in line:\n",
    "            energy = float(line.split()[3])\n",
    "            energies.append(energy)\n",
    "print(energies)"
   ]
  },
  {
   "cell_type": "code",
   "execution_count": 91,
   "metadata": {},
   "outputs": [
    {
     "name": "stdout",
     "output_type": "stream",
     "text": [
      "data\\data\\outfiles\\butanol.out\n"
     ]
    }
   ],
   "source": [
    "first_file = filenames[0]\n",
    "print(first_file)"
   ]
  },
  {
   "cell_type": "code",
   "execution_count": 97,
   "metadata": {},
   "outputs": [
    {
     "name": "stdout",
     "output_type": "stream",
     "text": [
      "butanol\n"
     ]
    }
   ],
   "source": [
    "filename = os.path.basename(first_file)\n",
    "molecule_name = filename.split('.')[0]\n",
    "print(molecule_name)"
   ]
  },
  {
   "cell_type": "code",
   "execution_count": 105,
   "metadata": {},
   "outputs": [
    {
     "name": "stdout",
     "output_type": "stream",
     "text": [
      "butanol: -232.1655798347283\n",
      "decanol: -466.3836241400086\n",
      "ethanol: -154.09130176573018\n",
      "heptanol: -349.27397687072676\n",
      "hexanol: -310.2385332251633\n",
      "methanol: -115.04800861868374\n",
      "nonanol: -427.3465180082815\n",
      "octanol: -388.3110864554743\n",
      "pentanol: -271.20138119895074\n",
      "propanol: -193.12836249728798\n",
      "['butanol', 'decanol', 'ethanol', 'heptanol', 'hexanol', 'methanol', 'nonanol', 'octanol', 'pentanol', 'propanol'] [-232.1655798347283, -466.3836241400086, -154.09130176573018, -349.27397687072676, -310.2385332251633, -115.04800861868374, -427.3465180082815, -388.3110864554743, -271.20138119895074, -193.12836249728798]\n"
     ]
    }
   ],
   "source": [
    "energies = []\n",
    "molecules = []\n",
    "for f in filenames:\n",
    "    # Obtain the molecule name\n",
    "    filename = os.path.basename(f)\n",
    "    molecule_name = filename.split('.')[0]\n",
    "    molecules.append(molecule_name)\n",
    "    # Read in the molecule's output file\n",
    "    outfile = open(f,'r')\n",
    "    data = outfile.readlines()\n",
    "    outfile.close()\n",
    "    # Extract the molecule's energy\n",
    "    for line in data:\n",
    "        if \"Final Energy\" in line:\n",
    "            energy = float(line.split()[3])\n",
    "            energies.append(energy)\n",
    "    print(f'{molecule_name}: {energy}')\n",
    "print(molecules,energies)"
   ]
  },
  {
   "cell_type": "code",
   "execution_count": 108,
   "metadata": {},
   "outputs": [
    {
     "name": "stdout",
     "output_type": "stream",
     "text": [
      "butanol: -232.1655798347283\n",
      "decanol: -466.3836241400086\n",
      "ethanol: -154.09130176573018\n",
      "heptanol: -349.27397687072676\n",
      "hexanol: -310.2385332251633\n",
      "methanol: -115.04800861868374\n",
      "nonanol: -427.3465180082815\n",
      "octanol: -388.3110864554743\n",
      "pentanol: -271.20138119895074\n",
      "propanol: -193.12836249728798\n",
      "['butanol', 'decanol', 'ethanol', 'heptanol', 'hexanol', 'methanol', 'nonanol', 'octanol', 'pentanol', 'propanol', 'butanol', 'decanol', 'ethanol', 'heptanol', 'hexanol', 'methanol', 'nonanol', 'octanol', 'pentanol', 'propanol', 'butanol', 'decanol', 'ethanol', 'heptanol', 'hexanol', 'methanol', 'nonanol', 'octanol', 'pentanol', 'propanol', 'butanol', 'decanol', 'ethanol', 'heptanol', 'hexanol', 'methanol', 'nonanol', 'octanol', 'pentanol', 'propanol'] [-232.1655798347283, -466.3836241400086, -154.09130176573018, -349.27397687072676, -310.2385332251633, -115.04800861868374, -427.3465180082815, -388.3110864554743, -271.20138119895074, -193.12836249728798, -232.1655798347283, -466.3836241400086, -154.09130176573018, -349.27397687072676, -310.2385332251633, -115.04800861868374, -427.3465180082815, -388.3110864554743, -271.20138119895074, -193.12836249728798, -232.1655798347283, -466.3836241400086, -154.09130176573018, -349.27397687072676, -310.2385332251633, -115.04800861868374, -427.3465180082815, -388.3110864554743, -271.20138119895074, -193.12836249728798, -232.1655798347283, -466.3836241400086, -154.09130176573018, -349.27397687072676, -310.2385332251633, -115.04800861868374, -427.3465180082815, -388.3110864554743, -271.20138119895074, -193.12836249728798]\n"
     ]
    }
   ],
   "source": [
    "datafile = open(os.path.join(outfile_directory,'energies.txt'),'w')\n",
    "for f in filenames:\n",
    "    # Obtain the molecule name\n",
    "    filename = os.path.basename(f)\n",
    "    molecule_name = filename.split('.')[0]\n",
    "    molecules.append(molecule_name)\n",
    "    # Read in the molecule's output file\n",
    "    outfile = open(f,'r')\n",
    "    data = outfile.readlines()\n",
    "    outfile.close()\n",
    "    # Extract the molecule's energy\n",
    "    for line in data:\n",
    "        if \"Final Energy\" in line:\n",
    "            energy = float(line.split()[3])\n",
    "            energies.append(energy)\n",
    "    print(f'{molecule_name}: {energy}')\n",
    "    datafile.write(f'{molecule_name} \\t {energy}\\n')\n",
    "print(molecules,energies)\n",
    "datafile.close()"
   ]
  },
  {
   "cell_type": "code",
   "execution_count": 110,
   "metadata": {},
   "outputs": [
    {
     "name": "stdout",
     "output_type": "stream",
     "text": [
      "Help on function genfromtxt in module numpy:\n",
      "\n",
      "genfromtxt(fname, dtype=<class 'float'>, comments='#', delimiter=None, skip_header=0, skip_footer=0, converters=None, missing_values=None, filling_values=None, usecols=None, names=None, excludelist=None, deletechars=None, replace_space='_', autostrip=False, case_sensitive=True, defaultfmt='f%i', unpack=None, usemask=False, loose=True, invalid_raise=True, max_rows=None, encoding='bytes')\n",
      "    Load data from a text file, with missing values handled as specified.\n",
      "    \n",
      "    Each line past the first `skip_header` lines is split at the `delimiter`\n",
      "    character, and characters following the `comments` character are discarded.\n",
      "    \n",
      "    Parameters\n",
      "    ----------\n",
      "    fname : file, str, pathlib.Path, list of str, generator\n",
      "        File, filename, list, or generator to read.  If the filename\n",
      "        extension is `.gz` or `.bz2`, the file is first decompressed. Note\n",
      "        that generators must return byte strings in Python 3k.  The strings\n",
      "        in a list or produced by a generator are treated as lines.\n",
      "    dtype : dtype, optional\n",
      "        Data type of the resulting array.\n",
      "        If None, the dtypes will be determined by the contents of each\n",
      "        column, individually.\n",
      "    comments : str, optional\n",
      "        The character used to indicate the start of a comment.\n",
      "        All the characters occurring on a line after a comment are discarded\n",
      "    delimiter : str, int, or sequence, optional\n",
      "        The string used to separate values.  By default, any consecutive\n",
      "        whitespaces act as delimiter.  An integer or sequence of integers\n",
      "        can also be provided as width(s) of each field.\n",
      "    skiprows : int, optional\n",
      "        `skiprows` was removed in numpy 1.10. Please use `skip_header` instead.\n",
      "    skip_header : int, optional\n",
      "        The number of lines to skip at the beginning of the file.\n",
      "    skip_footer : int, optional\n",
      "        The number of lines to skip at the end of the file.\n",
      "    converters : variable, optional\n",
      "        The set of functions that convert the data of a column to a value.\n",
      "        The converters can also be used to provide a default value\n",
      "        for missing data: ``converters = {3: lambda s: float(s or 0)}``.\n",
      "    missing : variable, optional\n",
      "        `missing` was removed in numpy 1.10. Please use `missing_values`\n",
      "        instead.\n",
      "    missing_values : variable, optional\n",
      "        The set of strings corresponding to missing data.\n",
      "    filling_values : variable, optional\n",
      "        The set of values to be used as default when the data are missing.\n",
      "    usecols : sequence, optional\n",
      "        Which columns to read, with 0 being the first.  For example,\n",
      "        ``usecols = (1, 4, 5)`` will extract the 2nd, 5th and 6th columns.\n",
      "    names : {None, True, str, sequence}, optional\n",
      "        If `names` is True, the field names are read from the first line after\n",
      "        the first `skip_header` lines.  This line can optionally be proceeded\n",
      "        by a comment delimiter. If `names` is a sequence or a single-string of\n",
      "        comma-separated names, the names will be used to define the field names\n",
      "        in a structured dtype. If `names` is None, the names of the dtype\n",
      "        fields will be used, if any.\n",
      "    excludelist : sequence, optional\n",
      "        A list of names to exclude. This list is appended to the default list\n",
      "        ['return','file','print']. Excluded names are appended an underscore:\n",
      "        for example, `file` would become `file_`.\n",
      "    deletechars : str, optional\n",
      "        A string combining invalid characters that must be deleted from the\n",
      "        names.\n",
      "    defaultfmt : str, optional\n",
      "        A format used to define default field names, such as \"f%i\" or \"f_%02i\".\n",
      "    autostrip : bool, optional\n",
      "        Whether to automatically strip white spaces from the variables.\n",
      "    replace_space : char, optional\n",
      "        Character(s) used in replacement of white spaces in the variables\n",
      "        names. By default, use a '_'.\n",
      "    case_sensitive : {True, False, 'upper', 'lower'}, optional\n",
      "        If True, field names are case sensitive.\n",
      "        If False or 'upper', field names are converted to upper case.\n",
      "        If 'lower', field names are converted to lower case.\n",
      "    unpack : bool, optional\n",
      "        If True, the returned array is transposed, so that arguments may be\n",
      "        unpacked using ``x, y, z = loadtxt(...)``\n",
      "    usemask : bool, optional\n",
      "        If True, return a masked array.\n",
      "        If False, return a regular array.\n",
      "    loose : bool, optional\n",
      "        If True, do not raise errors for invalid values.\n",
      "    invalid_raise : bool, optional\n",
      "        If True, an exception is raised if an inconsistency is detected in the\n",
      "        number of columns.\n",
      "        If False, a warning is emitted and the offending lines are skipped.\n",
      "    max_rows : int,  optional\n",
      "        The maximum number of rows to read. Must not be used with skip_footer\n",
      "        at the same time.  If given, the value must be at least 1. Default is\n",
      "        to read the entire file.\n",
      "    \n",
      "        .. versionadded:: 1.10.0\n",
      "    encoding : str, optional\n",
      "        Encoding used to decode the inputfile. Does not apply when `fname` is\n",
      "        a file object.  The special value 'bytes' enables backward compatibility\n",
      "        workarounds that ensure that you receive byte arrays when possible\n",
      "        and passes latin1 encoded strings to converters. Override this value to\n",
      "        receive unicode arrays and pass strings as input to converters.  If set\n",
      "        to None the system default is used. The default value is 'bytes'.\n",
      "    \n",
      "        .. versionadded:: 1.14.0\n",
      "    \n",
      "    Returns\n",
      "    -------\n",
      "    out : ndarray\n",
      "        Data read from the text file. If `usemask` is True, this is a\n",
      "        masked array.\n",
      "    \n",
      "    See Also\n",
      "    --------\n",
      "    numpy.loadtxt : equivalent function when no data is missing.\n",
      "    \n",
      "    Notes\n",
      "    -----\n",
      "    * When spaces are used as delimiters, or when no delimiter has been given\n",
      "      as input, there should not be any missing data between two fields.\n",
      "    * When the variables are named (either by a flexible dtype or with `names`,\n",
      "      there must not be any header in the file (else a ValueError\n",
      "      exception is raised).\n",
      "    * Individual values are not stripped of spaces by default.\n",
      "      When using a custom converter, make sure the function does remove spaces.\n",
      "    \n",
      "    References\n",
      "    ----------\n",
      "    .. [1] NumPy User Guide, section `I/O with NumPy\n",
      "           <https://docs.scipy.org/doc/numpy/user/basics.io.genfromtxt.html>`_.\n",
      "    \n",
      "    Examples\n",
      "    ---------\n",
      "    >>> from io import StringIO\n",
      "    >>> import numpy as np\n",
      "    \n",
      "    Comma delimited file with mixed dtype\n",
      "    \n",
      "    >>> s = StringIO(u\"1,1.3,abcde\")\n",
      "    >>> data = np.genfromtxt(s, dtype=[('myint','i8'),('myfloat','f8'),\n",
      "    ... ('mystring','S5')], delimiter=\",\")\n",
      "    >>> data\n",
      "    array((1, 1.3, 'abcde'),\n",
      "          dtype=[('myint', '<i8'), ('myfloat', '<f8'), ('mystring', '|S5')])\n",
      "    \n",
      "    Using dtype = None\n",
      "    \n",
      "    >>> s.seek(0) # needed for StringIO example only\n",
      "    >>> data = np.genfromtxt(s, dtype=None,\n",
      "    ... names = ['myint','myfloat','mystring'], delimiter=\",\")\n",
      "    >>> data\n",
      "    array((1, 1.3, 'abcde'),\n",
      "          dtype=[('myint', '<i8'), ('myfloat', '<f8'), ('mystring', '|S5')])\n",
      "    \n",
      "    Specifying dtype and names\n",
      "    \n",
      "    >>> s.seek(0)\n",
      "    >>> data = np.genfromtxt(s, dtype=\"i8,f8,S5\",\n",
      "    ... names=['myint','myfloat','mystring'], delimiter=\",\")\n",
      "    >>> data\n",
      "    array((1, 1.3, 'abcde'),\n",
      "          dtype=[('myint', '<i8'), ('myfloat', '<f8'), ('mystring', '|S5')])\n",
      "    \n",
      "    An example with fixed-width columns\n",
      "    \n",
      "    >>> s = StringIO(u\"11.3abcde\")\n",
      "    >>> data = np.genfromtxt(s, dtype=None, names=['intvar','fltvar','strvar'],\n",
      "    ...     delimiter=[1,3,5])\n",
      "    >>> data\n",
      "    array((1, 1.3, 'abcde'),\n",
      "          dtype=[('intvar', '<i8'), ('fltvar', '<f8'), ('strvar', '|S5')])\n",
      "\n"
     ]
    }
   ],
   "source": [
    "import numpy\n",
    "help(numpy.genfromtxt)"
   ]
  },
  {
   "cell_type": "code",
   "execution_count": 111,
   "metadata": {},
   "outputs": [
    {
     "name": "stdout",
     "output_type": "stream",
     "text": [
      "[['Frame' 'THR4_ATP' 'THR4_ASP' 'TYR6_ATP' 'TYR6_ASP']\n",
      " ['1' '8.9542' '5.8024' '11.5478' '9.9557']\n",
      " ['2' '8.6181' '6.0942' '13.9594' '11.6945']\n",
      " ...\n",
      " ['9998' '8.6625' '7.7306' '9.5469' '10.3063']\n",
      " ['9999' '9.2456' '7.8886' '9.8151' '10.7564']\n",
      " ['10000' '8.8135' '7.917' '9.9517' '10.7848']]\n"
     ]
    }
   ],
   "source": [
    "import os\n",
    "distance_file = os.path.join('data\\data', 'distance_data_headers.csv')\n",
    "distances = numpy.genfromtxt(fname=distance_file, delimiter=',', dtype='unicode')\n",
    "print(distances)"
   ]
  },
  {
   "cell_type": "code",
   "execution_count": 112,
   "metadata": {},
   "outputs": [
    {
     "name": "stdout",
     "output_type": "stream",
     "text": [
      "['Frame' 'THR4_ATP' 'THR4_ASP' 'TYR6_ATP' 'TYR6_ASP']\n"
     ]
    }
   ],
   "source": [
    "# Extract the headers from the distance information\n",
    "headers = distances[0]\n",
    "print(headers)"
   ]
  },
  {
   "cell_type": "code",
   "execution_count": 113,
   "metadata": {},
   "outputs": [],
   "source": [
    "# Now we'll extract the actual data with a proper slice\n",
    "data = distances[1:]"
   ]
  },
  {
   "cell_type": "code",
   "execution_count": 114,
   "metadata": {},
   "outputs": [
    {
     "name": "stdout",
     "output_type": "stream",
     "text": [
      "[[1.00000e+00 8.95420e+00 5.80240e+00 1.15478e+01 9.95570e+00]\n",
      " [2.00000e+00 8.61810e+00 6.09420e+00 1.39594e+01 1.16945e+01]\n",
      " [3.00000e+00 9.00660e+00 6.06370e+00 1.30924e+01 1.13043e+01]\n",
      " ...\n",
      " [9.99800e+03 8.66250e+00 7.73060e+00 9.54690e+00 1.03063e+01]\n",
      " [9.99900e+03 9.24560e+00 7.88860e+00 9.81510e+00 1.07564e+01]\n",
      " [1.00000e+04 8.81350e+00 7.91700e+00 9.95170e+00 1.07848e+01]]\n"
     ]
    }
   ],
   "source": [
    "# Remember that we imported these as type 'unicode', so they are strings.\n",
    "# We need to convert these to floats before proceeding.\n",
    "data = data.astype(numpy.float)\n",
    "print(data)"
   ]
  },
  {
   "cell_type": "code",
   "execution_count": 115,
   "metadata": {},
   "outputs": [
    {
     "name": "stdout",
     "output_type": "stream",
     "text": [
      "[[ 1.      8.9542  5.8024]\n",
      " [ 2.      8.6181  6.0942]\n",
      " [ 3.      9.0066  6.0637]\n",
      " [ 4.      9.2002  6.0227]\n",
      " [ 5.      9.1294  5.9365]\n",
      " [ 6.      9.0462  6.2553]\n",
      " [ 7.      8.8657  5.9186]\n",
      " [ 8.      9.3256  6.2351]\n",
      " [ 9.      9.4184  6.1993]\n",
      " [10.      9.06    6.0478]]\n"
     ]
    }
   ],
   "source": [
    "# Here is a subset of the data for testing\n",
    "small_data = data[0:10,0:3]\n",
    "print(small_data)"
   ]
  },
  {
   "cell_type": "code",
   "execution_count": 116,
   "metadata": {},
   "outputs": [
    {
     "name": "stdout",
     "output_type": "stream",
     "text": [
      "[6.     9.0462 6.2553]\n",
      "[[8.9542 5.8024]\n",
      " [8.6181 6.0942]\n",
      " [9.0066 6.0637]\n",
      " [9.2002 6.0227]\n",
      " [9.1294 5.9365]\n",
      " [9.0462 6.2553]\n",
      " [8.8657 5.9186]\n",
      " [9.3256 6.2351]\n",
      " [9.4184 6.1993]\n",
      " [9.06   6.0478]]\n"
     ]
    }
   ],
   "source": [
    "# Examples of slicing the small_data set to probe how slicing works\n",
    "print(small_data[5,:])\n",
    "print(small_data[:,1:])"
   ]
  },
  {
   "cell_type": "code",
   "execution_count": 117,
   "metadata": {},
   "outputs": [
    {
     "name": "stdout",
     "output_type": "stream",
     "text": [
      "10.876950930000001\n"
     ]
    }
   ],
   "source": [
    "# Using numpy.mean() to compute the mean distance THR4_ATP\n",
    "thr4_atp = data[:,1]  # Slices just the THR4_ATP column for all rows\n",
    "avg_thr4_atp = numpy.mean(thr4_atp)\n",
    "print(avg_thr4_atp)"
   ]
  },
  {
   "cell_type": "code",
   "execution_count": 118,
   "metadata": {},
   "outputs": [
    {
     "name": "stdout",
     "output_type": "stream",
     "text": [
      "5\n"
     ]
    }
   ],
   "source": [
    "# Determining the number of columns in the dataset (exluding timestep label)\n",
    "ndatacol = len(data[1,:])\n",
    "print(ndatacol)"
   ]
  },
  {
   "cell_type": "code",
   "execution_count": 119,
   "metadata": {},
   "outputs": [
    {
     "name": "stdout",
     "output_type": "stream",
     "text": [
      "THR4_ATP : 10.876950930000001\n",
      "THR4_ASP : 7.342344959999999\n",
      "TYR6_ATP : 11.209791329999998\n",
      "TYR6_ASP : 10.9934435\n"
     ]
    }
   ],
   "source": [
    "for i in range(1,ndatacol):\n",
    "    column = data[:,i]\n",
    "    avg_col = numpy.mean(column)\n",
    "    print(F'{headers[i]} : {avg_col}')"
   ]
  },
  {
   "cell_type": "code",
   "execution_count": 120,
   "metadata": {},
   "outputs": [],
   "source": [
    "data = data.astype(numpy.float)"
   ]
  },
  {
   "cell_type": "code",
   "execution_count": null,
   "metadata": {},
   "outputs": [],
   "source": []
  }
 ],
 "metadata": {
  "kernelspec": {
   "display_name": "Python 3",
   "language": "python",
   "name": "python3"
  },
  "language_info": {
   "codemirror_mode": {
    "name": "ipython",
    "version": 3
   },
   "file_extension": ".py",
   "mimetype": "text/x-python",
   "name": "python",
   "nbconvert_exporter": "python",
   "pygments_lexer": "ipython3",
   "version": "3.7.3"
  }
 },
 "nbformat": 4,
 "nbformat_minor": 2
}
